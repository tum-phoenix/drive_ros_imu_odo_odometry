{
 "cells": [
  {
   "cell_type": "markdown",
   "metadata": {},
   "source": [
    "# imports and paths"
   ]
  },
  {
   "cell_type": "code",
   "execution_count": null,
   "metadata": {},
   "outputs": [],
   "source": [
    "import os\n",
    "import csv\n",
    "import time\n",
    "import math\n",
    "import yaml\n",
    "import subprocess\n",
    "from hyperopt import fmin, tpe, hp, Trials, STATUS_OK, STATUS_FAIL\n",
    "from threading import Lock\n",
    "from collections import deque\n",
    "\n",
    "\n",
    "path_home =         \"/home/fabian\"\n",
    "path_catkin_ws =    path_home + \"/catkin_ws\"\n",
    "path_ros_package =  path_catkin_ws + \"/src/drive_ros_config/modules/drive_ros_imu_odo_odometry\"\n",
    "path_config_file =  path_ros_package + \"/config/phoenix_cc2017.yaml\"\n",
    "path_trial_runner = path_ros_package + \"/scripts/runTrial.sh\"\n",
    "path_bag_file =     \"/data/Bags/Drive/drive_2017-06-16-14-31-35.bag\"\n",
    "path_results =      \"/data/KalmanTuningLogs/\""
   ]
  },
  {
   "cell_type": "markdown",
   "metadata": {},
   "source": [
    "# update covariances\n",
    "load default .yaml file, change kalman covariances and save as temporary .yaml file"
   ]
  },
  {
   "cell_type": "code",
   "execution_count": null,
   "metadata": {},
   "outputs": [],
   "source": [
    "def update_config(x, y, a, v, theta, omega, config_file_out):\n",
    "    \n",
    "    # load config\n",
    "    config_file_in = path_config_file\n",
    "    config_in = open(config_file_in, 'r')\n",
    "    config = yaml.load(config_in)\n",
    "    \n",
    "    # update config\n",
    "    config['kalman_cov']['sys_var_x'] = x;\n",
    "    config['kalman_cov']['sys_var_y'] = y;\n",
    "    config['kalman_cov']['sys_var_a'] = a;\n",
    "    config['kalman_cov']['sys_var_v'] = v;\n",
    "    config['kalman_cov']['sys_var_theta'] = theta;\n",
    "    config['kalman_cov']['sys_var_omega'] = omega;\n",
    "    \n",
    "    # save config\n",
    "    config_out = open(config_file_out, 'w')\n",
    "    yaml.dump(config, config_out)"
   ]
  },
  {
   "cell_type": "markdown",
   "metadata": {},
   "source": [
    "# trial number\n",
    "when we run in parallel, we have to keep track on the correct trial number and use locks"
   ]
  },
  {
   "cell_type": "code",
   "execution_count": null,
   "metadata": {},
   "outputs": [],
   "source": [
    "ct = 0\n",
    "lock = Lock()\n",
    "\n",
    "def increase_trial():\n",
    "    global ct\n",
    "    lock.acquire()\n",
    "    ct = ct + 1\n",
    "    local_ct = ct\n",
    "    lock.release()\n",
    "    return local_ct"
   ]
  },
  {
   "cell_type": "markdown",
   "metadata": {},
   "source": [
    "# evaluate funciton\n",
    "this function evaluates the output and returns a single loss function"
   ]
  },
  {
   "cell_type": "code",
   "execution_count": null,
   "metadata": {},
   "outputs": [],
   "source": [
    "def evaluate(results_csv):\n",
    "    # open csv file\n",
    "    with open(results_csv, 'r') as f:\n",
    "        try:\n",
    "            lastrow = deque(csv.reader(f), 1)[0]\n",
    "        except IndexError:  # empty file\n",
    "            lastrow = None\n",
    "            \n",
    "        x = float(lastrow[2]) # x position at the end\n",
    "        y = float(lastrow[3]) # y position at the end\n",
    "        return math.sqrt(x*x + y*y) # distance from start to the end (assume we drive a circle)"
   ]
  },
  {
   "cell_type": "markdown",
   "metadata": {},
   "source": [
    "# objective function\n",
    "for each trial this function is called and starts the trial runner script"
   ]
  },
  {
   "cell_type": "code",
   "execution_count": null,
   "metadata": {},
   "outputs": [],
   "source": [
    "def objective(params):\n",
    "    # overwrite parameters and use default\n",
    "    #params = {'x': 0.001, 'y': 0.001, 'a': 0.0024, 'v': 0.0004, 'theta': 0.008, 'omega': 0.03}\n",
    "\n",
    "    # get trial number\n",
    "    trial = increase_trial()\n",
    "\n",
    "    # check if trial number already exists\n",
    "    while os.path.exists(path_results + str(trial)):\n",
    "        trial = increase_trial()\n",
    "\n",
    "    # create directory for this trial\n",
    "    os.makedirs(path_results + str(trial))\n",
    "\n",
    "    # config file path\n",
    "    yaml_config = path_results + str(trial) + \"/config.yaml\"\n",
    "\n",
    "    # create config file for this trial\n",
    "    update_config(params['x'], params['y'], params['a'], params['v'],\n",
    "                  params['theta'], params['omega'], yaml_config)\n",
    "\n",
    "    # start trail runner\n",
    "    p = subprocess.run([path_trial_runner, \"--trail\", str(ct), \n",
    "                                           \"--logdir\", path_results + str(trial),\n",
    "                                           \"--bag\", path_bag_file,\n",
    "                                           \"--config\", yaml_config,\n",
    "                                           \"--catkin_ws\", path_catkin_ws], shell=False)\n",
    "    \n",
    "    # evaluate return code of trail runner\n",
    "    if 0 == p.returncode:\n",
    "        status = STATUS_OK\n",
    "    else:\n",
    "        status = STATUS_FAIL\n",
    "    \n",
    "    # return trail results\n",
    "    return {\n",
    "        'loss': evaluate(path_results + str(trial) + \"/odom.csv\"),\n",
    "        'status': status,\n",
    "        'eval_time': time.time(),\n",
    "        'log_path': path_results + str(trial)\n",
    "        }"
   ]
  },
  {
   "cell_type": "markdown",
   "metadata": {},
   "source": [
    "# search for hyperparameter\n",
    "here we create the space and search for the best hyperparameters"
   ]
  },
  {
   "cell_type": "code",
   "execution_count": null,
   "metadata": {},
   "outputs": [],
   "source": [
    "space = {\n",
    "    'x': hp.uniform('x', 0, 1),\n",
    "    'y': hp.uniform('y', 0, 1),\n",
    "    'a': hp.uniform('a', 0, 1),\n",
    "    'v': hp.uniform('v', 0, 1),\n",
    "    'theta': hp.uniform('theta', 0, 1),\n",
    "    'omega': hp.uniform('omega', 0, 1)\n",
    "}\n",
    "\n",
    "algo = tpe.suggest\n",
    "max_evals = 3\n",
    "trials = Trials()\n",
    "\n",
    "best = fmin(objective, space, algo, max_evals, trials)"
   ]
  },
  {
   "cell_type": "code",
   "execution_count": null,
   "metadata": {},
   "outputs": [],
   "source": [
    "import matplotlib.pyplot as plt\n",
    "plt.plot(trials.losses())\n",
    "plt.ylabel('some numbers')\n",
    "plt.show()"
   ]
  },
  {
   "cell_type": "code",
   "execution_count": null,
   "metadata": {},
   "outputs": [],
   "source": []
  },
  {
   "cell_type": "code",
   "execution_count": null,
   "metadata": {},
   "outputs": [],
   "source": []
  },
  {
   "cell_type": "code",
   "execution_count": null,
   "metadata": {},
   "outputs": [],
   "source": []
  },
  {
   "cell_type": "code",
   "execution_count": null,
   "metadata": {},
   "outputs": [],
   "source": []
  },
  {
   "cell_type": "code",
   "execution_count": null,
   "metadata": {},
   "outputs": [],
   "source": []
  }
 ],
 "metadata": {
  "kernelspec": {
   "display_name": "Python 3",
   "language": "python",
   "name": "python3"
  },
  "language_info": {
   "codemirror_mode": {
    "name": "ipython",
    "version": 3
   },
   "file_extension": ".py",
   "mimetype": "text/x-python",
   "name": "python",
   "nbconvert_exporter": "python",
   "pygments_lexer": "ipython3",
   "version": "3.5.2"
  }
 },
 "nbformat": 4,
 "nbformat_minor": 2
}
