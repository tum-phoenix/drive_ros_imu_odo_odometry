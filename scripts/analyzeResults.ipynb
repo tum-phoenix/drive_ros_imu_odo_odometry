{
 "cells": [
  {
   "cell_type": "code",
   "execution_count": null,
   "metadata": {},
   "outputs": [],
   "source": [
    "import pymongo\n",
    "import pprint\n",
    "import matplotlib.pyplot as plt\n",
    "import yaml"
   ]
  },
  {
   "cell_type": "markdown",
   "metadata": {},
   "source": [
    "# connect to db\n",
    "connect to mongo db and get cursor to best x results"
   ]
  },
  {
   "cell_type": "code",
   "execution_count": null,
   "metadata": {},
   "outputs": [],
   "source": [
    "experiment = '2018-03-12-09-51-13'\n",
    "result_count = 5\n",
    "\n",
    "client = pymongo.MongoClient('localhost', 1234)\n",
    "db = client[experiment]\n",
    "jobs = db['jobs']\n",
    "cursor = jobs.find({ \"result.status\": \"ok\" }, limit=result_count).sort( \"result.loss\", pymongo.ASCENDING )"
   ]
  },
  {
   "cell_type": "markdown",
   "metadata": {},
   "source": [
    "# save to list\n",
    "save data in lists"
   ]
  },
  {
   "cell_type": "code",
   "execution_count": null,
   "metadata": {},
   "outputs": [],
   "source": [
    "x = list()\n",
    "y = list()\n",
    "v = list()\n",
    "a = list()\n",
    "omega = list()\n",
    "theta = list()\n",
    "loss = list()\n",
    "log_path = list()\n",
    "\n",
    "for job in cursor:\n",
    "    x.append(job['result']['params']['x'])\n",
    "    y.append(job['result']['params']['y'])\n",
    "    v.append(job['result']['params']['v'])\n",
    "    a.append(job['result']['params']['a'])\n",
    "    omega.append(job['result']['params']['omega'])\n",
    "    theta.append(job['result']['params']['theta'])\n",
    "    loss.append(job['result']['loss'])\n",
    "    log_path.append(job['result']['log_path'])"
   ]
  },
  {
   "cell_type": "markdown",
   "metadata": {},
   "source": [
    "# fancy visualization"
   ]
  },
  {
   "cell_type": "code",
   "execution_count": null,
   "metadata": {},
   "outputs": [],
   "source": [
    "# x\n",
    "plt.scatter(x, loss)\n",
    "plt.xlabel('variances pos_x')\n",
    "plt.ylabel('loss')\n",
    "plt.axis([min(x), max(x), min(loss), max(loss)])\n",
    "plt.show()"
   ]
  },
  {
   "cell_type": "code",
   "execution_count": null,
   "metadata": {},
   "outputs": [],
   "source": [
    "# y\n",
    "plt.scatter(y, loss)\n",
    "plt.xlabel('variances pos_y')\n",
    "plt.ylabel('loss')\n",
    "plt.axis([min(y), max(y), min(loss), max(loss)])\n",
    "plt.show()"
   ]
  },
  {
   "cell_type": "code",
   "execution_count": null,
   "metadata": {},
   "outputs": [],
   "source": [
    "# v\n",
    "plt.scatter(v, loss)\n",
    "plt.xlabel('variances v')\n",
    "plt.ylabel('loss')\n",
    "plt.axis([min(v), max(v), min(loss), max(loss)])\n",
    "plt.show() "
   ]
  },
  {
   "cell_type": "code",
   "execution_count": null,
   "metadata": {},
   "outputs": [],
   "source": [
    "# a\n",
    "plt.scatter(a, loss)\n",
    "plt.xlabel('variances a')\n",
    "plt.ylabel('loss')\n",
    "plt.axis([min(a), max(a), min(loss), max(loss)])\n",
    "plt.show() "
   ]
  },
  {
   "cell_type": "code",
   "execution_count": null,
   "metadata": {},
   "outputs": [],
   "source": [
    "# theta\n",
    "plt.scatter(theta, loss)\n",
    "plt.xlabel('variances theta')\n",
    "plt.ylabel('loss')\n",
    "plt.axis([min(theta), max(theta), min(loss), max(loss)])\n",
    "plt.show()"
   ]
  },
  {
   "cell_type": "code",
   "execution_count": null,
   "metadata": {},
   "outputs": [],
   "source": [
    "# omega\n",
    "plt.scatter(omega, loss)\n",
    "plt.xlabel('variances omega')\n",
    "plt.ylabel('loss')\n",
    "plt.axis([min(omega), max(omega), min(loss), max(loss)])\n",
    "plt.show()"
   ]
  },
  {
   "cell_type": "code",
   "execution_count": null,
   "metadata": {},
   "outputs": [],
   "source": [
    "# loss only\n",
    "plt.plot(loss)\n",
    "plt.xlabel('trial')\n",
    "plt.ylabel('loss')\n",
    "plt.show()"
   ]
  },
  {
   "cell_type": "code",
   "execution_count": null,
   "metadata": {},
   "outputs": [],
   "source": [
    "print(log_path)"
   ]
  },
  {
   "cell_type": "code",
   "execution_count": null,
   "metadata": {},
   "outputs": [],
   "source": [
    "# calculate means\n",
    "print(yaml.dump({'kalman_cov': { \n",
    "                 'sys_var_a' : sum(a)/len(a),\n",
    "                 'sys_var_v':  sum(v)/len(v),\n",
    "                 'sys_var_x':  sum(x)/len(x),\n",
    "                 'sys_var_y':  sum(y)/len(y),\n",
    "                 'sys_var_theta': sum(theta)/len(theta),\n",
    "                 'sys_var_omega': sum(omega)/len(omega) }},\n",
    "                  default_flow_style=False)) \n"
   ]
  },
  {
   "cell_type": "code",
   "execution_count": null,
   "metadata": {},
   "outputs": [],
   "source": []
  },
  {
   "cell_type": "code",
   "execution_count": null,
   "metadata": {},
   "outputs": [],
   "source": []
  }
 ],
 "metadata": {
  "kernelspec": {
   "display_name": "Python 3",
   "language": "python",
   "name": "python3"
  },
  "language_info": {
   "codemirror_mode": {
    "name": "ipython",
    "version": 3
   },
   "file_extension": ".py",
   "mimetype": "text/x-python",
   "name": "python",
   "nbconvert_exporter": "python",
   "pygments_lexer": "ipython3",
   "version": "3.5.2"
  }
 },
 "nbformat": 4,
 "nbformat_minor": 2
}
